{
 "cells": [
  {
   "cell_type": "code",
   "execution_count": 1,
   "metadata": {},
   "outputs": [
    {
     "name": "stderr",
     "output_type": "stream",
     "text": [
      "unable to load materials from: 005_tomato_soup_can_textured.mtl\n",
      "specified material (material_0)  not loaded!\n"
     ]
    }
   ],
   "source": [
    "import trimesh\n",
    "import numpy as np\n",
    "mesh = trimesh.load('005_tomato_soup_can_textured.obj')"
   ]
  },
  {
   "cell_type": "code",
   "execution_count": 2,
   "metadata": {},
   "outputs": [],
   "source": [
    "default_T = mesh.bounding_box_oriented.primitive.transform"
   ]
  },
  {
   "cell_type": "code",
   "execution_count": 3,
   "metadata": {},
   "outputs": [],
   "source": [
    "inv_T = np.linalg.inv(default_T)"
   ]
  },
  {
   "cell_type": "code",
   "execution_count": 4,
   "metadata": {},
   "outputs": [
    {
     "name": "stdout",
     "output_type": "stream",
     "text": [
      "default tranformation \n",
      " [[ 0.33 -0.94 -0.   -0.01]\n",
      " [-0.94 -0.33 -0.    0.08]\n",
      " [ 0.    0.   -1.    0.05]\n",
      " [ 0.    0.    0.    1.  ]]\n"
     ]
    }
   ],
   "source": [
    "print(\"default tranformation \\n\", np.round(default_T,2))"
   ]
  },
  {
   "cell_type": "code",
   "execution_count": 5,
   "metadata": {},
   "outputs": [
    {
     "name": "stdout",
     "output_type": "stream",
     "text": [
      "inverse tranformation \n",
      " [[ 0.33 -0.94  0.    0.08]\n",
      " [-0.94 -0.33  0.    0.02]\n",
      " [-0.   -0.   -1.    0.05]\n",
      " [ 0.    0.    0.    1.  ]]\n"
     ]
    }
   ],
   "source": [
    "print(\"inverse tranformation \\n\", np.round(inv_T,2))"
   ]
  },
  {
   "cell_type": "code",
   "execution_count": 6,
   "metadata": {},
   "outputs": [],
   "source": [
    "new_mesh = mesh.copy()\n",
    "new_mesh=new_mesh.apply_transform(inv_T)\n",
    "new_T = new_mesh.bounding_box_oriented.primitive.transform"
   ]
  },
  {
   "cell_type": "code",
   "execution_count": 7,
   "metadata": {},
   "outputs": [
    {
     "name": "stdout",
     "output_type": "stream",
     "text": [
      "new transformation \n",
      " [[-1.  0. -0. -0.]\n",
      " [ 0.  1.  0. -0.]\n",
      " [-0. -0. -1.  0.]\n",
      " [ 0.  0.  0.  1.]]\n"
     ]
    }
   ],
   "source": [
    "print(\"new transformation \\n\", np.round(new_T,2))"
   ]
  },
  {
   "cell_type": "code",
   "execution_count": 8,
   "metadata": {},
   "outputs": [
    {
     "name": "stdout",
     "output_type": "stream",
     "text": [
      "product new T vs default T \n",
      " [[-0.33  0.94  0.    0.01]\n",
      " [-0.94 -0.33 -0.    0.08]\n",
      " [-0.   -0.    1.   -0.05]\n",
      " [ 0.    0.    0.    1.  ]]\n"
     ]
    }
   ],
   "source": [
    "print(\"product new T vs default T \\n\", np.round(np.dot(new_T, default_T),2))"
   ]
  },
  {
   "cell_type": "code",
   "execution_count": 9,
   "metadata": {},
   "outputs": [
    {
     "name": "stdout",
     "output_type": "stream",
     "text": [
      "product inv T vs default T \n",
      " [[ 1.  0.  0. -0.]\n",
      " [ 0.  1. -0.  0.]\n",
      " [-0.  0.  1.  0.]\n",
      " [ 0.  0.  0.  1.]]\n"
     ]
    }
   ],
   "source": [
    "print(\"product inv T vs default T \\n\", np.round(np.dot(inv_T, default_T),2))"
   ]
  }
 ],
 "metadata": {
  "kernelspec": {
   "display_name": "Python 3",
   "language": "python",
   "name": "python3"
  },
  "language_info": {
   "codemirror_mode": {
    "name": "ipython",
    "version": 3
   },
   "file_extension": ".py",
   "mimetype": "text/x-python",
   "name": "python",
   "nbconvert_exporter": "python",
   "pygments_lexer": "ipython3",
   "version": "3.6.8"
  }
 },
 "nbformat": 4,
 "nbformat_minor": 4
}
